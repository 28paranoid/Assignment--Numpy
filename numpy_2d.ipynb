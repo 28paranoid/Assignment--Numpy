{
  "nbformat": 4,
  "nbformat_minor": 0,
  "metadata": {
    "colab": {
      "provenance": [],
      "authorship_tag": "ABX9TyM1Rl7D55bW7xCR4rFfVg3d",
      "include_colab_link": true
    },
    "kernelspec": {
      "name": "python3",
      "display_name": "Python 3"
    },
    "language_info": {
      "name": "python"
    }
  },
  "cells": [
    {
      "cell_type": "markdown",
      "metadata": {
        "id": "view-in-github",
        "colab_type": "text"
      },
      "source": [
        "<a href=\"https://colab.research.google.com/github/28paranoid/Assignment--Numpy/blob/main/numpy_2d.ipynb\" target=\"_parent\"><img src=\"https://colab.research.google.com/assets/colab-badge.svg\" alt=\"Open In Colab\"/></a>"
      ]
    },
    {
      "cell_type": "code",
      "execution_count": null,
      "metadata": {
        "id": "Fprxe3yhrRvL"
      },
      "outputs": [],
      "source": [
        "\n",
        "# Write your code below and press Shift+Enter to execute\n",
        "import numpy as np\n",
        "a = [[1, 2, 3, 4], [5, 6, 7, 8], [9, 10, 11, 12]]\n",
        "\n",
        "arr = np.array(a)\n",
        "arr\n",
        "\n",
        "\"\"\"Calculate the numpy array size.\"\"\"\n",
        "\n",
        "# Write your code below and press Shift+Enter to execute\n",
        "arr.size\n",
        "\n",
        "\"\"\"Access the element on the first row and first and second columns.\"\"\"\n",
        "\n",
        "# Write your code below and press Shift+Enter to execute\n",
        "arr[0][0:2]\n",
        "\n",
        "\"\"\"Perform matrix multiplication with the numpy arrays A and B.\"\"\"\n",
        "\n",
        "# Write your code below and press Shift+Enter to execute\n",
        "\n",
        "B = np.array([[0, 1], [1, 0], [1, 1], [-1, 0]])\n",
        "res = np.dot(arr, B)\n",
        "res"
      ]
    }
  ]
}